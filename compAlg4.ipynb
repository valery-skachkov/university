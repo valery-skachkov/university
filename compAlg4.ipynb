{
  "cells": [
    {
      "cell_type": "code",
      "execution_count": 177,
      "metadata": {
        "id": "cyfww44BBer6"
      },
      "outputs": [],
      "source": [
        "from IPython.display import display, Math\n",
        "import numpy as np\n",
        "import matplotlib\n",
        "import matplotlib.pyplot as plt\n"
      ]
    },
    {
      "cell_type": "code",
      "execution_count": 178,
      "metadata": {
        "id": "vjTq7k6CBi6W"
      },
      "outputs": [],
      "source": [
        "def add(x, y): return ['+', x, y]\n",
        "def sub(x, y): return ['-', x, y]\n",
        "def mul(x, y): return ['*', x, y]\n",
        "def div(x, y): return ['/', x, y]\n",
        "def power(x, y): return ['^', x, y]\n",
        "def negative(x): return ['~', x]\n",
        "def sin_(x): return ['sin', x]\n",
        "def cos_(x): return ['cos', x]\n",
        "def sqrt_(x): return ['sqrt', x]\n",
        "def ln_(x): return ['ln', x]\n",
        "def exp_(x): return ['exp', x]\n",
        "\n",
        "def tan_(x): return ['tan', x]\n",
        "def arcsin_(x): return ['arcsin', x]\n",
        "def arccos_(x): return ['arccos', x]\n",
        "def arctan_(x): return ['arctan', x]\n",
        "def sh_(x): return ['sh', x]\n",
        "def ch_(x): return ['ch', x]\n",
        "def th_(x): return ['th', x]\n",
        "def ash_(x): return ['ash', x]\n",
        "def ach_(x): return ['ach', x]\n",
        "def ath_(x): return ['ath', x]\n",
        "\n",
        "def Sum(*x): return ['S', *x]\n",
        "def Product(*x): return ['P', *x]\n"
      ]
    },
    {
      "cell_type": "code",
      "execution_count": 179,
      "metadata": {
        "colab": {
          "base_uri": "https://localhost:8080/"
        },
        "id": "qLvAwZLfB6PM",
        "outputId": "7231b3cb-0b99-448a-bb94-890b1274da27"
      },
      "outputs": [
        {
          "name": "stdout",
          "output_type": "stream",
          "text": [
            "['*', 2, ['+', 3, ['/', 'x', ['cos', 'x']]]]\n"
          ]
        }
      ],
      "source": [
        "f = mul(2, add(3, div('x', cos_('x'))))\n",
        "print(f)\n"
      ]
    },
    {
      "cell_type": "code",
      "execution_count": 180,
      "metadata": {
        "id": "xIkrjFtLCELz"
      },
      "outputs": [],
      "source": [
        "def fix(x):\n",
        "    if isinstance(x, Expression):\n",
        "        return x\n",
        "    return Expression(x)\n",
        "\n",
        "\n",
        "class Expression:\n",
        "    def __init__(self, x):\n",
        "        self.T = x\n",
        "\n",
        "    def __add__(self, x):\n",
        "        return Expression(add(self.T, fix(x).T))\n",
        "\n",
        "    def __radd__(self, x):\n",
        "        return Expression(add(fix(x).T, self.T))\n",
        "\n",
        "    def __sub__(self, x):\n",
        "        return Expression(sub(self.T, fix(x).T))\n",
        "\n",
        "    def __rsub__(self, x):\n",
        "        return Expression(sub(fix(x).T, self.T))\n",
        "\n",
        "    def __mul__(self, x):\n",
        "        return Expression(mul(self.T, fix(x).T))\n",
        "\n",
        "    def __rmul__(self, x):\n",
        "        return Expression(mul(fix(x).T, self.T))\n",
        "\n",
        "    def __truediv__(self, x):\n",
        "        return Expression(div(self.T, fix(x).T))\n",
        "\n",
        "    def __rtruediv__(self, x):\n",
        "        return Expression(div(fix(x).T, self.T))\n",
        "\n",
        "    def __pow__(self, x):\n",
        "        return Expression(power(self.T, fix(x).T))\n",
        "\n",
        "    def __rpow__(self, x):\n",
        "        return Expression(power(fix(x).T, self.T))\n",
        "\n",
        "    def __neg__(self):\n",
        "        return Expression(negative(self.T))\n",
        "    \n",
        "    def arccos(self):\n",
        "        return Expression(np.arccos(self.T))\n",
        "\n",
        "    def tan(self):\n",
        "        return Expression(np.tan(self.T))\n",
        "\n",
        "    def arcsin(self):\n",
        "        return Expression(np.arcsin(self.T))\n",
        "\n",
        "    def arctan(self):\n",
        "        return Expression(np.arctan(self.T))\n",
        "\n",
        "    def sh(self):\n",
        "        return Expression(np.sinh(self.T))\n",
        "\n",
        "    def ch(self):\n",
        "        return Expression(np.cosh(self.T))\n",
        "\n",
        "    def th(self):\n",
        "        return Expression(np.tanh(self.T))\n",
        "\n",
        "    def ash(self):\n",
        "        return Expression(np.arcsinh(self.T))\n",
        "\n",
        "    def ach(self):\n",
        "        return Expression(np.arccosh(self.T))\n",
        "\n",
        "    def ath(self):\n",
        "        return Expression(np.arctanh(self.T))\n",
        "\n",
        "\n",
        "def sin(x):\n",
        "    return Expression(sin_(fix(x).T))\n",
        "def cos(x):\n",
        "    return Expression(cos_(fix(x).T))\n",
        "def sqrt(x):\n",
        "    return Expression(sqrt_(fix(x).T))\n",
        "def arcsin(x):\n",
        "    return Expression(arcsin_(fix(x).T))\n",
        "def arccos(x):\n",
        "    return Expression(arccos_(fix(x).T))\n",
        "def arctan(x):\n",
        "    return Expression(arctan_(fix(x).T))\n",
        "def tan(x):\n",
        "    return Expression(tan_(fix(x).T))\n",
        "def sh(x):\n",
        "    return Expression(sh_(fix(x).T))\n",
        "def ch(x):\n",
        "    return Expression(ch_(fix(x).T))\n",
        "def th(x):\n",
        "    return Expression(th_(fix(x).T))\n",
        "def ash(x):\n",
        "    return Expression(ash_(fix(x).T))\n",
        "def ach(x):\n",
        "    return Expression(ach_(fix(x).T))\n",
        "def ath(x):\n",
        "    return Expression(ath_(fix(x).T))\n",
        "def ln(x):\n",
        "    return Expression(ln_(fix(x).T))\n",
        "def exp(x):\n",
        "    return Expression(exp_(fix(x).T))\n"
      ]
    },
    {
      "cell_type": "code",
      "execution_count": 181,
      "metadata": {
        "id": "wjOr75GvDkML"
      },
      "outputs": [],
      "source": [
        "x = Expression('x')\n",
        "f = 2 * x + 1\n"
      ]
    },
    {
      "cell_type": "code",
      "execution_count": 182,
      "metadata": {
        "colab": {
          "base_uri": "https://localhost:8080/"
        },
        "id": "LfhwNdZYDqxK",
        "outputId": "f6ebe3ca-b68f-44c5-c760-a918547b7e5a"
      },
      "outputs": [
        {
          "data": {
            "text/plain": [
              "['+', ['*', 2, 'x'], 1]"
            ]
          },
          "execution_count": 182,
          "metadata": {},
          "output_type": "execute_result"
        }
      ],
      "source": [
        "f.T\n"
      ]
    },
    {
      "cell_type": "code",
      "execution_count": 183,
      "metadata": {
        "id": "P_4l-r19DsfI"
      },
      "outputs": [],
      "source": [
        "def show(x):\n",
        "    display(Math(latex(x)))\n",
        "\n",
        "\n",
        "def enclose(x):\n",
        "    return f'\\\\left( {x} \\\\right)'\n",
        "\n",
        "\n",
        "def latex(x):\n",
        "    if isinstance(x, Expression):\n",
        "        return latex(x.T)\n",
        "\n",
        "    if isinstance(x, (int, str)):\n",
        "        return str(x)\n",
        "\n",
        "    op = x[0]\n",
        "    if op in '+-*/^':\n",
        "        l, r = latex(x[1]), latex(x[2])\n",
        "        if op == '+':\n",
        "            return f'{l} + {r}'\n",
        "        if op == '-':\n",
        "            return f'{l} - {r}'\n",
        "        if op == '*':\n",
        "            if isinstance(x[1], list) and x[1][0] in '+-' or l[0] == '-':\n",
        "                l = enclose(l)\n",
        "            if isinstance(x[2], list) and x[2][0] in '+-' or r[0] == '-':\n",
        "                r = enclose(r)\n",
        "            return f'{l} \\\\cdot {r}'\n",
        "        if op == '/':\n",
        "            return f'\\\\dfrac{{{l}}}{{{r}}}'\n",
        "        if op == '^':\n",
        "            if isinstance(x[1], list):\n",
        "                l = enclose(l)\n",
        "            return f'{{{l}}}^{{{r}}}'\n",
        "    else:\n",
        "        a = enclose(latex(x[1]))\n",
        "        if op == '~':\n",
        "            return f'- {a}'\n",
        "        if op == 'sin':\n",
        "            return f'\\\\sin {a}'\n",
        "        if op == 'cos':\n",
        "            return f'\\\\cos {a}'\n",
        "        if op == 'sqrt':\n",
        "            return f'\\\\sqrt{{{a}}}'\n",
        "        if op == 'ln':\n",
        "            return f'\\\\ln {a}'\n",
        "        if op == 'exp':\n",
        "            return f'e ^ {{{a}}}'\n",
        "        if op == 'arccos':\n",
        "            return f'\\\\arccos'\n",
        "        if op == 'arcsin':\n",
        "            return f'\\\\arcsin'\n",
        "        if op == 'sh':\n",
        "            return f'\\\\sh'\n",
        "        if op == 'ch':\n",
        "            return f'\\\\ch'\n",
        "        if op == 'th':\n",
        "            return f'\\\\th'"
      ]
    },
    {
      "cell_type": "code",
      "execution_count": 184,
      "metadata": {
        "id": "acIjJ9SKF24T"
      },
      "outputs": [],
      "source": [
        "def symbols(s):\n",
        "    S = s.split()\n",
        "    if len(S) == 1:\n",
        "        return Expression(s)\n",
        "    return (Expression(i) for i in S)\n"
      ]
    },
    {
      "cell_type": "code",
      "execution_count": 185,
      "metadata": {
        "colab": {
          "base_uri": "https://localhost:8080/",
          "height": 38
        },
        "id": "NGXGOmx3GfIb",
        "outputId": "9cb4ab02-5a0b-41c8-820c-22fa375c2e0c"
      },
      "outputs": [
        {
          "data": {
            "text/latex": [
              "$\\displaystyle x + y + z$"
            ],
            "text/plain": [
              "<IPython.core.display.Math object>"
            ]
          },
          "metadata": {},
          "output_type": "display_data"
        }
      ],
      "source": [
        "x, y, z = symbols('x y z')\n",
        "show(x + y + z)\n"
      ]
    },
    {
      "cell_type": "code",
      "execution_count": 186,
      "metadata": {
        "id": "4xhz7pA9A-ge"
      },
      "outputs": [],
      "source": [
        "def Z(x):\n",
        "    return Expression(x)\n",
        "\n",
        "\n",
        "def isInt(x):\n",
        "    return isinstance(x.T, int)\n",
        "\n",
        "\n",
        "def diff(y, x):\n",
        "    if isInt(y):\n",
        "        return Z(0)\n",
        "\n",
        "    if isinstance(y.T, str):\n",
        "        if y.T == x.T:\n",
        "            return Z(1)\n",
        "        return Z(0)\n",
        "\n",
        "    op = y.T[0]\n",
        "    if op in '+-*/^':\n",
        "        u, v = Expression(y.T[1]), Expression(y.T[2])\n",
        "        du, dv = diff(u, x), diff(v, x)\n",
        "        if op == '+':\n",
        "            return du + dv\n",
        "        if op == '-':\n",
        "            return du - dv\n",
        "        if op == '*':\n",
        "            # if isInt(u): return u * dv # упрощение\n",
        "            # if isInt(v): return du * v # упрощение\n",
        "            return du * v + u * dv\n",
        "        if op == '/':\n",
        "            if isInt(u):\n",
        "                return - u * dv / v ** 2  # упрощение\n",
        "            if isInt(v):\n",
        "                return du / v  # упрощение\n",
        "            return (du * v - u * dv) / v ** 2\n",
        "        if op == '^':\n",
        "            if isInt(v):  # u(x) ^ n\n",
        "                n = v.T\n",
        "                if n == 0:\n",
        "                    return Z(0)\n",
        "                if n == 1:\n",
        "                    return du\n",
        "                if du.T == 1:\n",
        "                    return n * u ** (n - 1)  # упрощение\n",
        "                return n * u ** (n - 1) * du\n",
        "            if isInt(u):  # n ^ v(x)\n",
        "                n = u.T\n",
        "                return ln(n) * (u ** v) * dv\n",
        "    else:\n",
        "        u = Expression(y.T[1])\n",
        "        du = diff(u, x)\n",
        "        if op == '~':\n",
        "            return -du\n",
        "        if op == 'sin':\n",
        "            return cos(u) * du\n",
        "        if op == 'cos':\n",
        "            return -sin(u) * du\n",
        "        if op == 'sqrt':\n",
        "            return du / (2 * sqrt(u))\n",
        "        if op == 'ln':\n",
        "            return du / u\n",
        "        if op == 'exp':\n",
        "            return exp(u) * du\n",
        "        if op == 'arccos':\n",
        "            return -du / sqrt(1 - u**2)\n",
        "        if op == 'arcsin':\n",
        "            return du / sqrt(1 - u**2)\n",
        "        if op == 'arcsin':\n",
        "            return du / sqrt(1 - u**2)\n",
        "        if op == 'arctan':\n",
        "            return du / (1 + u**2)          \n",
        "        if op == 'tan':\n",
        "            return du / cos(u)**2\n",
        "        if op == 'sh':\n",
        "            return du * ch(u)\n",
        "        if op == 'ch':\n",
        "            return du * sh(u)\n",
        "        if op == 'th':\n",
        "            return du / ch(u)**2\n",
        "\n",
        "    return None\n"
      ]
    },
    {
      "cell_type": "code",
      "execution_count": 187,
      "metadata": {
        "colab": {
          "base_uri": "https://localhost:8080/",
          "height": 60
        },
        "id": "IJLVIw56Bz0O",
        "outputId": "4a56bcf9-2fcb-43fa-db74-b40513e762e9"
      },
      "outputs": [
        {
          "data": {
            "text/latex": [
              "$\\displaystyle e ^ {\\left( x \\right)} \\cdot 1$"
            ],
            "text/plain": [
              "<IPython.core.display.Math object>"
            ]
          },
          "metadata": {},
          "output_type": "display_data"
        }
      ],
      "source": [
        "show(diff(exp(x), x))\n"
      ]
    },
    {
      "cell_type": "code",
      "execution_count": 188,
      "metadata": {
        "id": "_7yOiiKbCtOb"
      },
      "outputs": [],
      "source": [
        "def Diff(y, x, n=1):\n",
        "    dy = y\n",
        "    for i in range(n):\n",
        "        dy = diff(dy, x)\n",
        "    return dy\n"
      ]
    },
    {
      "cell_type": "code",
      "execution_count": 189,
      "metadata": {
        "colab": {
          "base_uri": "https://localhost:8080/",
          "height": 122
        },
        "id": "UzUq5x2WGhi2",
        "outputId": "e5b3988c-2160-4f25-903e-328bbd0f3994"
      },
      "outputs": [
        {
          "data": {
            "text/latex": [
              "$\\displaystyle \\ln \\left( x \\right)$"
            ],
            "text/plain": [
              "<IPython.core.display.Math object>"
            ]
          },
          "metadata": {},
          "output_type": "display_data"
        },
        {
          "data": {
            "text/latex": [
              "$\\displaystyle \\dfrac{1}{x}$"
            ],
            "text/plain": [
              "<IPython.core.display.Math object>"
            ]
          },
          "metadata": {},
          "output_type": "display_data"
        },
        {
          "data": {
            "text/latex": [
              "$\\displaystyle \\dfrac{\\left( - \\left( 1 \\right) \\right) \\cdot 1}{{x}^{2}}$"
            ],
            "text/plain": [
              "<IPython.core.display.Math object>"
            ]
          },
          "metadata": {},
          "output_type": "display_data"
        }
      ],
      "source": [
        "for n in range(3):\n",
        "    show(Diff(ln(x), x, n))"
      ]
    },
    {
      "cell_type": "code",
      "execution_count": 190,
      "metadata": {
        "colab": {
          "base_uri": "https://localhost:8080/",
          "height": 265
        },
        "id": "DzuLu2cNGlBI",
        "outputId": "9f7bd5a8-1a9a-43ad-fcbd-f4f42c35f7bc"
      },
      "outputs": [
        {
          "data": {
            "text/latex": [
              "$\\displaystyle \\dfrac{- \\left( 1 \\right)}{\\sqrt{\\left( 1 - {x}^{2} \\right)}}$"
            ],
            "text/plain": [
              "<IPython.core.display.Math object>"
            ]
          },
          "metadata": {},
          "output_type": "display_data"
        }
      ],
      "source": [
        "show(diff(arccos(x),x))"
      ]
    },
    {
      "cell_type": "code",
      "execution_count": 194,
      "metadata": {},
      "outputs": [
        {
          "data": {
            "text/latex": [
              "$\\displaystyle \\sh$"
            ],
            "text/plain": [
              "<IPython.core.display.Math object>"
            ]
          },
          "metadata": {},
          "output_type": "display_data"
        },
        {
          "data": {
            "text/latex": [
              "$\\displaystyle 1 \\cdot \\ch$"
            ],
            "text/plain": [
              "<IPython.core.display.Math object>"
            ]
          },
          "metadata": {},
          "output_type": "display_data"
        },
        {
          "data": {
            "text/latex": [
              "$\\displaystyle 0 \\cdot \\ch + 1 \\cdot 1 \\cdot \\sh$"
            ],
            "text/plain": [
              "<IPython.core.display.Math object>"
            ]
          },
          "metadata": {},
          "output_type": "display_data"
        }
      ],
      "source": [
        "for i in range(3):\n",
        "    show(Diff(sh(x),x,i))"
      ]
    },
    {
      "cell_type": "code",
      "execution_count": 192,
      "metadata": {
        "colab": {
          "base_uri": "https://localhost:8080/",
          "height": 220
        },
        "id": "E5bD0QCOIrL1",
        "outputId": "108c7bf7-7bcf-49d1-c5b3-2fbdf63ec4ec"
      },
      "outputs": [
        {
          "data": {
            "text/latex": [
              "$\\displaystyle \\sin \\left( 2 \\cdot x \\right)$"
            ],
            "text/plain": [
              "<IPython.core.display.Math object>"
            ]
          },
          "metadata": {},
          "output_type": "display_data"
        },
        {
          "data": {
            "text/latex": [
              "$\\displaystyle \\cos \\left( 2 \\cdot x \\right) \\cdot \\left( 0 \\cdot x + 2 \\cdot 1 \\right)$"
            ],
            "text/plain": [
              "<IPython.core.display.Math object>"
            ]
          },
          "metadata": {},
          "output_type": "display_data"
        },
        {
          "data": {
            "text/latex": [
              "$\\displaystyle \\left( - \\left( \\sin \\left( 2 \\cdot x \\right) \\right) \\right) \\cdot \\left( 0 \\cdot x + 2 \\cdot 1 \\right) \\cdot \\left( 0 \\cdot x + 2 \\cdot 1 \\right) + \\cos \\left( 2 \\cdot x \\right) \\cdot \\left( 0 \\cdot x + 0 \\cdot 1 + 0 \\cdot 1 + 2 \\cdot 0 \\right)$"
            ],
            "text/plain": [
              "<IPython.core.display.Math object>"
            ]
          },
          "metadata": {},
          "output_type": "display_data"
        },
        {
          "data": {
            "text/latex": [
              "$\\displaystyle \\left( \\left( - \\left( \\cos \\left( 2 \\cdot x \\right) \\cdot \\left( 0 \\cdot x + 2 \\cdot 1 \\right) \\right) \\right) \\cdot \\left( 0 \\cdot x + 2 \\cdot 1 \\right) + \\left( - \\left( \\sin \\left( 2 \\cdot x \\right) \\right) \\right) \\cdot \\left( 0 \\cdot x + 0 \\cdot 1 + 0 \\cdot 1 + 2 \\cdot 0 \\right) \\right) \\cdot \\left( 0 \\cdot x + 2 \\cdot 1 \\right) + \\left( - \\left( \\sin \\left( 2 \\cdot x \\right) \\right) \\right) \\cdot \\left( 0 \\cdot x + 2 \\cdot 1 \\right) \\cdot \\left( 0 \\cdot x + 0 \\cdot 1 + 0 \\cdot 1 + 2 \\cdot 0 \\right) + \\left( - \\left( \\sin \\left( 2 \\cdot x \\right) \\right) \\right) \\cdot \\left( 0 \\cdot x + 2 \\cdot 1 \\right) \\cdot \\left( 0 \\cdot x + 0 \\cdot 1 + 0 \\cdot 1 + 2 \\cdot 0 \\right) + \\cos \\left( 2 \\cdot x \\right) \\cdot \\left( 0 \\cdot x + 0 \\cdot 1 + 0 \\cdot 1 + 0 \\cdot 0 + 0 \\cdot 1 + 0 \\cdot 0 + 0 \\cdot 0 + 2 \\cdot 0 \\right)$"
            ],
            "text/plain": [
              "<IPython.core.display.Math object>"
            ]
          },
          "metadata": {},
          "output_type": "display_data"
        }
      ],
      "source": [
        "f = sin(2 * x)\n",
        "for n in range(4):\n",
        "    show(Diff(f, x, n))"
      ]
    }
  ],
  "metadata": {
    "colab": {
      "provenance": []
    },
    "kernelspec": {
      "display_name": "Python 3.9.12 ('base')",
      "language": "python",
      "name": "python3"
    },
    "language_info": {
      "codemirror_mode": {
        "name": "ipython",
        "version": 3
      },
      "file_extension": ".py",
      "mimetype": "text/x-python",
      "name": "python",
      "nbconvert_exporter": "python",
      "pygments_lexer": "ipython3",
      "version": "3.9.12"
    },
    "vscode": {
      "interpreter": {
        "hash": "51bdbcf85504914e6a59f9bfb6917a57d8b0f1eb29123c0cc139fe2aa351ad45"
      }
    }
  },
  "nbformat": 4,
  "nbformat_minor": 0
}
