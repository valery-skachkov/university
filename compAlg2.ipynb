{
  "cells": [
    {
      "cell_type": "markdown",
      "metadata": {
        "id": "view-in-github",
        "colab_type": "text"
      },
      "source": [
        "<a href=\"https://colab.research.google.com/github/SausageSamurai/CompAlg/blob/main/compAlg2.ipynb\" target=\"_parent\"><img src=\"https://colab.research.google.com/assets/colab-badge.svg\" alt=\"Open In Colab\"/></a>"
      ]
    },
    {
      "cell_type": "code",
      "execution_count": 1,
      "metadata": {
        "id": "QfiDFpMVSB1s"
      },
      "outputs": [],
      "source": [
        "from IPython.display import display, Math\n",
        "import math"
      ]
    },
    {
      "cell_type": "code",
      "execution_count": 2,
      "metadata": {
        "id": "TPy5kus3SsQc"
      },
      "outputs": [],
      "source": [
        "class Polynomial:\n",
        "    def __init__(self, coef):\n",
        "        self.coef = coef\n",
        "        self.normalize()\n",
        "        self.deg = len(self.coef)-1\n",
        "\n",
        "    def normalize(self):\n",
        "        while len(self.coef) > 1 and self.coef[-1] == 0:\n",
        "            self.coef = self.coef[:-1]\n",
        "\n",
        "    def tolatex(self, var=\"x\"):\n",
        "        if self.deg == 0:\n",
        "            return str(self.coef[0])\n",
        "        s = \"\"\n",
        "        for i in range(self.deg, -1, -1):\n",
        "            if self.coef[i] == 0:\n",
        "                continue\n",
        "          # знак\n",
        "            sign = \"\"\n",
        "            if self.coef[i] > 0 and i < self.deg:\n",
        "                sign = \"+\"\n",
        "            elif self.coef[i] < 0:\n",
        "                sign = \"-\"\n",
        "      # value\n",
        "            v = abs(self.coef[i])\n",
        "            value = str(v) if (v != 1 or i == 0) else \"\"\n",
        "      # degree\n",
        "            if i == 0:\n",
        "                degree = \"\"\n",
        "            elif i == 1:\n",
        "                degree = var\n",
        "            else:\n",
        "                degree = f\"{var}^{{{i}}}\"\n",
        "            s += sign + value + degree\n",
        "        return s\n",
        "\n",
        "    def show(self, var='x'):\n",
        "        display(Math(self.tolatex(var)))\n",
        "\n",
        "    def __eq__(self, other):\n",
        "            return self.coef == other.coef\n",
        "\n",
        "    def __ne__(self, other):\n",
        "            return self.coef != other.coef\n",
        "\n",
        "    def __floordiv__(self, other):\n",
        "        return Polynomial([ i // other for i in self.coef ])\n",
        "\n",
        "    def __mod__(self, other):\n",
        "        return Polynomial([ i % other for i in self.coef ])\n",
        "    \n",
        "    def __add__(self, other):\n",
        "        if type(other)==int:\n",
        "            coef = self.coef.copy()\n",
        "            coef[0] += other\n",
        "            return Polynomial(coef)\n",
        "        sc = self.coef.copy()\n",
        "        oc = other.coef.copy()\n",
        "        if (self.deg < other.deg):\n",
        "            for i in range(len(oc) - len(sc)):\n",
        "                sc.append(0)\n",
        "            \n",
        "        elif (self.deg > other.deg):\n",
        "            for i in range(len(sc) - len(oc)):\n",
        "                oc.append(0)\n",
        "        coef = [sc[i] + oc[i] for i in range(max(self.deg+1, other.deg + 1))]\n",
        "\n",
        "        return Polynomial(coef)\n",
        "\n",
        "    def __sub__(self, other):\n",
        "        if type(other)==int:\n",
        "            coef = self.coef.copy()\n",
        "            coef[0] += other\n",
        "            return Polynomial(coef)\n",
        "        sc = self.coef.copy()\n",
        "        oc = other.coef.copy()\n",
        "        if (self.deg < other.deg):\n",
        "            for i in range(len(oc) - len(sc)):\n",
        "                sc.append(0)\n",
        "            \n",
        "        elif (self.deg > other.deg):\n",
        "            for i in range(len(sc) - len(oc)):\n",
        "                oc.append(0)\n",
        "        coef = [sc[i] - oc[i] for i in range(max(self.deg+1, other.deg + 1))]\n",
        "\n",
        "        return Polynomial(coef)\n",
        "\n",
        "    def __mul__(self, other):\n",
        "        if type(other)!= Polynomial:\n",
        "            return Polynomial([i * other for i in self.coef])\n",
        "            \n",
        "        else:\n",
        "              coef = [0] * (self.deg + other.deg + 1)\n",
        "              for i in range(len(self.coef)):\n",
        "                  for j in range(len(other.coef)):\n",
        "                      coef[i+j] += self.coef[i] * other.coef[j]\n",
        "        return Polynomial(coef)                     \n",
        "\n",
        "\n",
        "    def __pow__(self, n):\n",
        "        if (n == 0):\n",
        "            return Polynomial([1])\n",
        "        if (n == 1):\n",
        "            return self\n",
        "        t = Polynomial(self.coef.copy())\n",
        "        p = Polynomial(self.coef.copy())\n",
        "        for i in range(n-1):\n",
        "            p *= t\n",
        "        return p\n",
        "        \n",
        "    def __imul__(self, other):\n",
        "        return self*other\n",
        "\n",
        "    def __isub__(self, other):\n",
        "        if type(other)==int:\n",
        "            coef = self.coef.copy()\n",
        "            coef[0] += other\n",
        "            return Polynomial(coef)\n",
        "        sc = self.coef.copy()\n",
        "        oc = other.coef.copy()\n",
        "        if (self.deg < other.deg):\n",
        "            for i in range(len(oc) - len(sc)):\n",
        "                sc.append(0)\n",
        "            \n",
        "        elif (self.deg > other.deg):\n",
        "            for i in range(len(sc) - len(oc)):\n",
        "                oc.append(0)\n",
        "        coef = [sc[i] - oc[i] for i in range(max(self.deg+1, other.deg + 1))]\n",
        "\n",
        "        return Polynomial(coef)\n",
        "            \n",
        "    def __iadd__(self, other):\n",
        "        if type(other)==int:\n",
        "            coef = self.coef.copy()\n",
        "            coef[0] += other\n",
        "            return Polynomial(coef)\n",
        "        sc = self.coef.copy()\n",
        "        oc = other.coef.copy()\n",
        "        if (self.deg < other.deg):\n",
        "            for i in range(len(oc) - len(sc)):\n",
        "                sc.append(0)\n",
        "            \n",
        "        elif (self.deg > other.deg):\n",
        "            for i in range(len(sc) - len(oc)):\n",
        "                oc.append(0)\n",
        "        coef = [sc[i] + oc[i] for i in range(max(self.deg+1, other.deg + 1))]\n",
        "\n",
        "        return Polynomial(coef)\n",
        "\n",
        "    def __neg__(self):\n",
        "        return Polynomial([-i for i in self.coef])\n",
        "\n",
        "    def __radd__(self, other):\n",
        "        if type(other)==int:\n",
        "            coef = self.coef.copy()\n",
        "            coef[0] += other\n",
        "            return Polynomial(coef)\n",
        "    def __rmul__(self, other):\n",
        "        if type(other)!= Polynomial:\n",
        "            return Polynomial([i * other for i in self.coef])\n",
        "\n",
        "    def __rsub__(self, other):\n",
        "        return (-self) + other\n",
        "\n",
        "    def diff(self, n=1):\n",
        "        if self.deg < n:\n",
        "            return Polynomial([0])\n",
        "        q = []\n",
        "        for i, c in enumerate(self.coef):\n",
        "            if i > n-1: \n",
        "                q.append(int(math.factorial(i)/math.factorial(i-n) * c))\n",
        "        return Polynomial(q)\n",
        "        \n",
        "    def integrate(self, C=0):\n",
        "        t = [C] + self.coef.copy()\n",
        "        for i in range(self.deg + 1):\n",
        "            t[i+1] //= i+1\n",
        "        return Polynomial(t)\n",
        "\n",
        "    def eval(self, other):\n",
        "        s = 0\n",
        "        for i, coef in enumerate(self.coef):\n",
        "            s += (other**i) * coef\n",
        "        return s\n"
      ]
    },
    {
      "cell_type": "code",
      "execution_count": 3,
      "metadata": {
        "id": "a0OC0DrzX0RJ"
      },
      "outputs": [],
      "source": [
        "p = Polynomial([2,2,3,4])\n",
        "q = Polynomial([1,1,0,0])"
      ]
    },
    {
      "cell_type": "code",
      "execution_count": 4,
      "metadata": {
        "id": "9XefAD4gX8uB",
        "colab": {
          "base_uri": "https://localhost:8080/"
        },
        "outputId": "45e8ed57-a1a7-4556-c950-c2e6be7867f0"
      },
      "outputs": [
        {
          "output_type": "execute_result",
          "data": {
            "text/plain": [
              "([2, 2, 3, 4], 3)"
            ]
          },
          "metadata": {},
          "execution_count": 4
        }
      ],
      "source": [
        "p.coef, p.deg"
      ]
    },
    {
      "cell_type": "code",
      "execution_count": 5,
      "metadata": {
        "id": "uTSFWSu0ZFX-",
        "colab": {
          "base_uri": "https://localhost:8080/"
        },
        "outputId": "0b0d9abc-f4f2-4040-c08c-f98ce50f98bf"
      },
      "outputs": [
        {
          "output_type": "execute_result",
          "data": {
            "text/plain": [
              "False"
            ]
          },
          "metadata": {},
          "execution_count": 5
        }
      ],
      "source": [
        "p==q"
      ]
    },
    {
      "cell_type": "code",
      "execution_count": 6,
      "metadata": {
        "id": "VH3L4UzKuTzu",
        "colab": {
          "base_uri": "https://localhost:8080/"
        },
        "outputId": "c7432f39-9ff9-4016-a794-c38a7b7c20e6"
      },
      "outputs": [
        {
          "output_type": "execute_result",
          "data": {
            "text/plain": [
              "[1, 1, 1, 2]"
            ]
          },
          "metadata": {},
          "execution_count": 6
        }
      ],
      "source": [
        "(p//2).coef"
      ]
    },
    {
      "cell_type": "code",
      "execution_count": 7,
      "metadata": {
        "id": "QW4BoNFQ72_R",
        "colab": {
          "base_uri": "https://localhost:8080/"
        },
        "outputId": "a2fbfc7f-1ee7-4c05-ff60-1c7087d8c409"
      },
      "outputs": [
        {
          "output_type": "execute_result",
          "data": {
            "text/plain": [
              "<__main__.Polynomial at 0x7f2139845410>"
            ]
          },
          "metadata": {},
          "execution_count": 7
        }
      ],
      "source": [
        "p += q\n",
        "p"
      ]
    },
    {
      "cell_type": "code",
      "execution_count": 8,
      "metadata": {
        "id": "_USTx8RZ9zPJ",
        "colab": {
          "base_uri": "https://localhost:8080/"
        },
        "outputId": "21502468-2f50-4ae4-c2fa-ffe6dcbf7016"
      },
      "outputs": [
        {
          "output_type": "execute_result",
          "data": {
            "text/plain": [
              "[3, 3, 3, 4]"
            ]
          },
          "metadata": {},
          "execution_count": 8
        }
      ],
      "source": [
        "p.coef"
      ]
    },
    {
      "cell_type": "code",
      "execution_count": 9,
      "metadata": {
        "id": "3oajrDNV_uNw",
        "colab": {
          "base_uri": "https://localhost:8080/"
        },
        "outputId": "e6f293e9-4cea-4178-9fcd-394bf78ed8e8"
      },
      "outputs": [
        {
          "output_type": "execute_result",
          "data": {
            "text/plain": [
              "[2, 2, 3, 4]"
            ]
          },
          "metadata": {},
          "execution_count": 9
        }
      ],
      "source": [
        "p -= q\n",
        "p.coef"
      ]
    },
    {
      "cell_type": "code",
      "execution_count": 10,
      "metadata": {
        "id": "-7LHm6vRBweW",
        "colab": {
          "base_uri": "https://localhost:8080/"
        },
        "outputId": "dceb487f-5a2a-4eff-9f57-d67d840f6191"
      },
      "outputs": [
        {
          "output_type": "execute_result",
          "data": {
            "text/plain": [
              "[3, 3, 3, 4]"
            ]
          },
          "metadata": {},
          "execution_count": 10
        }
      ],
      "source": [
        "(p+q).coef"
      ]
    },
    {
      "cell_type": "code",
      "execution_count": 11,
      "metadata": {
        "id": "umhqWRB5B24a",
        "colab": {
          "base_uri": "https://localhost:8080/"
        },
        "outputId": "8d60c023-1942-44ba-8621-704a54a7cee1"
      },
      "outputs": [
        {
          "output_type": "execute_result",
          "data": {
            "text/plain": [
              "[1, 1, 3, 4]"
            ]
          },
          "metadata": {},
          "execution_count": 11
        }
      ],
      "source": [
        "(p-q).coef"
      ]
    },
    {
      "cell_type": "code",
      "execution_count": 12,
      "metadata": {
        "id": "AGxF5Ht6HWeo",
        "colab": {
          "base_uri": "https://localhost:8080/"
        },
        "outputId": "24cc3417-df7d-468f-f2c0-6c1f7f71e68c"
      },
      "outputs": [
        {
          "output_type": "execute_result",
          "data": {
            "text/plain": [
              "[1, 4, 6, 4, 1]"
            ]
          },
          "metadata": {},
          "execution_count": 12
        }
      ],
      "source": [
        "t1 = Polynomial([1,3,3,1])\n",
        "t2 = Polynomial([1,1])\n",
        "(t1*t2).coef"
      ]
    },
    {
      "cell_type": "code",
      "execution_count": 13,
      "metadata": {
        "id": "2vWTN318HbSa",
        "colab": {
          "base_uri": "https://localhost:8080/"
        },
        "outputId": "1f3d23d1-6dbf-4b9e-9903-6294c24effd2"
      },
      "outputs": [
        {
          "output_type": "execute_result",
          "data": {
            "text/plain": [
              "[1, 4, 6, 4, 1]"
            ]
          },
          "metadata": {},
          "execution_count": 13
        }
      ],
      "source": [
        "t1 *= t2\n",
        "t1.coef"
      ]
    },
    {
      "cell_type": "code",
      "execution_count": 14,
      "metadata": {
        "id": "dF7vnOlNJZwO",
        "colab": {
          "base_uri": "https://localhost:8080/",
          "height": 60
        },
        "outputId": "8f83418a-f1d6-4635-ace2-d203e09ce673"
      },
      "outputs": [
        {
          "output_type": "display_data",
          "data": {
            "text/plain": [
              "<IPython.core.display.Math object>"
            ],
            "text/latex": "$\\displaystyle x^{20}+20x^{19}+190x^{18}+1140x^{17}+4845x^{16}+15504x^{15}+38760x^{14}+77520x^{13}+125970x^{12}+167960x^{11}+184756x^{10}+167960x^{9}+125970x^{8}+77520x^{7}+38760x^{6}+15504x^{5}+4845x^{4}+1140x^{3}+190x^{2}+20x+1$"
          },
          "metadata": {}
        }
      ],
      "source": [
        "t1 = Polynomial([1,1])\n",
        "(t1**20).show()"
      ]
    },
    {
      "cell_type": "code",
      "execution_count": 15,
      "metadata": {
        "id": "9tDxu5LcKWvt",
        "colab": {
          "base_uri": "https://localhost:8080/"
        },
        "outputId": "07383a6d-7c83-43e6-82f4-b38a1c88e084"
      },
      "outputs": [
        {
          "output_type": "execute_result",
          "data": {
            "text/plain": [
              "[2, 2]"
            ]
          },
          "metadata": {},
          "execution_count": 15
        }
      ],
      "source": [
        "(2*t1).coef"
      ]
    },
    {
      "cell_type": "code",
      "execution_count": 16,
      "metadata": {
        "id": "em0mgbWHVMVr",
        "colab": {
          "base_uri": "https://localhost:8080/"
        },
        "outputId": "88e7bba5-550d-47d7-ea24-f106fc8fd8c0"
      },
      "outputs": [
        {
          "output_type": "execute_result",
          "data": {
            "text/plain": [
              "[-1, -1]"
            ]
          },
          "metadata": {},
          "execution_count": 16
        }
      ],
      "source": [
        "(-t1).coef"
      ]
    },
    {
      "cell_type": "code",
      "execution_count": 17,
      "metadata": {
        "id": "T3Af6_OyVsXR",
        "colab": {
          "base_uri": "https://localhost:8080/",
          "height": 38
        },
        "outputId": "7370a8f4-b2de-462e-d982-810bbf7ccbca"
      },
      "outputs": [
        {
          "output_type": "execute_result",
          "data": {
            "text/plain": [
              "<IPython.core.display.Math object>"
            ],
            "text/latex": "$\\displaystyle -x$"
          },
          "metadata": {},
          "execution_count": 17
        }
      ],
      "source": [
        "Math((1-t1).tolatex())"
      ]
    },
    {
      "cell_type": "code",
      "execution_count": 18,
      "metadata": {
        "id": "GEW8mU_gYS_R",
        "colab": {
          "base_uri": "https://localhost:8080/",
          "height": 38
        },
        "outputId": "f30b8b10-dabb-48d9-ebdc-10c342a7110f"
      },
      "outputs": [
        {
          "output_type": "display_data",
          "data": {
            "text/plain": [
              "<IPython.core.display.Math object>"
            ],
            "text/latex": "$\\displaystyle x+1$"
          },
          "metadata": {}
        }
      ],
      "source": [
        "t1.show()"
      ]
    },
    {
      "cell_type": "code",
      "execution_count": 19,
      "metadata": {
        "id": "D1yRMMS1ZpXY",
        "colab": {
          "base_uri": "https://localhost:8080/",
          "height": 60
        },
        "outputId": "ed527b5f-fad9-430c-c7d0-dfe718785e97"
      },
      "outputs": [
        {
          "output_type": "display_data",
          "data": {
            "text/plain": [
              "<IPython.core.display.Math object>"
            ],
            "text/latex": "$\\displaystyle x^{3}+3x^{2}+3x+1$"
          },
          "metadata": {}
        },
        {
          "output_type": "display_data",
          "data": {
            "text/plain": [
              "<IPython.core.display.Math object>"
            ],
            "text/latex": "$\\displaystyle 6x+6$"
          },
          "metadata": {}
        }
      ],
      "source": [
        "t1 = Polynomial([1,3,3,1])\n",
        "t1.show()\n",
        "\n",
        "t1 = t1.diff(n=2)\n",
        "t1.show()"
      ]
    },
    {
      "cell_type": "code",
      "execution_count": 20,
      "metadata": {
        "id": "gvqyStx7f8FL",
        "colab": {
          "base_uri": "https://localhost:8080/",
          "height": 38
        },
        "outputId": "18cd00ae-fb67-47e5-8d02-5d47c4327c7d"
      },
      "outputs": [
        {
          "output_type": "display_data",
          "data": {
            "text/plain": [
              "<IPython.core.display.Math object>"
            ],
            "text/latex": "$\\displaystyle x^{3}+3x^{2}+3x+1$"
          },
          "metadata": {}
        }
      ],
      "source": [
        "t1 = t1.integrate(C = 3)\n",
        "t1 = t1.integrate(C = 1)\n",
        "t1.show()"
      ]
    },
    {
      "cell_type": "code",
      "execution_count": 21,
      "metadata": {
        "id": "eiGTTE3MqzV8",
        "colab": {
          "base_uri": "https://localhost:8080/",
          "height": 38
        },
        "outputId": "bd23acf0-630e-4e8c-b883-954d5073a00f"
      },
      "outputs": [
        {
          "output_type": "display_data",
          "data": {
            "text/plain": [
              "<IPython.core.display.Math object>"
            ],
            "text/latex": "$\\displaystyle x^{2}-x+1$"
          },
          "metadata": {}
        }
      ],
      "source": [
        "px = Polynomial([1,1,1])\n",
        "qx = Polynomial([-1,1])\n",
        "(px.eval(qx)).show()"
      ]
    }
  ],
  "metadata": {
    "colab": {
      "collapsed_sections": [],
      "provenance": [],
      "include_colab_link": true
    },
    "interpreter": {
      "hash": "51bdbcf85504914e6a59f9bfb6917a57d8b0f1eb29123c0cc139fe2aa351ad45"
    },
    "kernelspec": {
      "display_name": "Python 3.9.12 ('base')",
      "language": "python",
      "name": "python3"
    },
    "language_info": {
      "codemirror_mode": {
        "name": "ipython",
        "version": 3
      },
      "file_extension": ".py",
      "mimetype": "text/x-python",
      "name": "python",
      "nbconvert_exporter": "python",
      "pygments_lexer": "ipython3",
      "version": "3.9.12"
    }
  },
  "nbformat": 4,
  "nbformat_minor": 0
}