{
  "nbformat": 4,
  "nbformat_minor": 0,
  "metadata": {
    "colab": {
      "provenance": [],
      "authorship_tag": "ABX9TyNfOzY0P233ixq1gh49Yrdy",
      "include_colab_link": true
    },
    "kernelspec": {
      "name": "python3",
      "display_name": "Python 3"
    },
    "language_info": {
      "name": "python"
    }
  },
  "cells": [
    {
      "cell_type": "markdown",
      "metadata": {
        "id": "view-in-github",
        "colab_type": "text"
      },
      "source": [
        "<a href=\"https://colab.research.google.com/github/SausageSamurai/CompAlg/blob/main/compalg1.ipynb\" target=\"_parent\"><img src=\"https://colab.research.google.com/assets/colab-badge.svg\" alt=\"Open In Colab\"/></a>"
      ]
    },
    {
      "cell_type": "code",
      "execution_count": null,
      "metadata": {
        "id": "79aU3r7aMD5G"
      },
      "outputs": [],
      "source": [
        "from IPython.display import display, Math"
      ]
    },
    {
      "cell_type": "code",
      "source": [
        "class Rational:\n",
        "    def __init__(self, n, m=1):\n",
        "        self.n = n\n",
        "        self.m = m\n",
        "        self.normalize()\n",
        "\n",
        "    def __str__(self):\n",
        "        return f\"{self.n}/{self.m}\"\n",
        "\n",
        "    def normalize(self):\n",
        "        if self.n == 0: \n",
        "            self.m = 1\n",
        "        gcd = get_gcd(abs(self.n), self.m)\n",
        "        self.n //= gcd\n",
        "        self.m //= gcd\n",
        "        if self.m < 0:\n",
        "            self.n *= -1\n",
        "            self.m *= -1\n",
        "\n",
        "    def evalf(self):\n",
        "        self.n =  self.n / self.m\n",
        "        self.m = 1\n",
        "\n",
        "    def mixed(self):\n",
        "        i = self.n // self.m\n",
        "        n = self.n\n",
        "        n -= self.m * i\n",
        "        return i, Rational(n, self.m)\n",
        "    # +, -, *, /, **\n",
        "\n",
        "    def __add__(self, other):\n",
        "        n = self.n * other.m + other.n * self.m\n",
        "        m = self.m * other.m\n",
        "        return Rational(n, m)\n",
        "\n",
        "    def __sub__(self, other):\n",
        "        n = self.n * other.m - other.n * self.m\n",
        "        m = self.m * other.m\n",
        "        return Rational(n,m)\n",
        "\n",
        "    def __mul__(self, other):\n",
        "        n = self.n * other.n\n",
        "        m = self.m * other.m\n",
        "        return Rational(n,m)\n",
        "\n",
        "    def __truediv__(self, other):\n",
        "        n = self.n * other.m\n",
        "        m = self.m * other.n\n",
        "        return Rational(n,m)\n",
        "\n",
        "    def __pow__(self, other):\n",
        "        n = self.n ** other\n",
        "        m = self.m ** other\n",
        "        return Rational(n,m)\n",
        "\n",
        "\n",
        "    # <, <=, >, >=, ==, !=\n",
        "\n",
        "    def __eq__(self, other):\n",
        "        nb = self.n == other.n\n",
        "        mb = self.m == other.m\n",
        "        return nb and mb\n",
        "\n",
        "    def __ne__(self, other):\n",
        "        nb = self.n != other.n\n",
        "        mb = self.m != other.m\n",
        "        return nb or mb\n",
        "\n",
        "    def __lt__(self, other):\n",
        "        return self.n * other.m < other.n * self.m\n",
        "\n",
        "    def __le__(self, other):\n",
        "        return self.n * other.m <= other.n * self.m\n",
        "        \n",
        "    def __gt__(self, other):\n",
        "        return self.n * other.m > other.n * self.m\n",
        "\n",
        "    def __ge__(self, other):\n",
        "        return self.n * other.m >= other.n * self.m\n",
        "    #\n",
        "    def toLatex(self, mixed=False):\n",
        "        if mixed:\n",
        "            k, f = self.mixed()\n",
        "            return f\"{k}\\\\dfrac{{{f.n}}}{{{f.m}}}\"\n",
        "        return f\"\\\\dfrac{{{self.n}}}{{{self.m}}}\"\n",
        "\n",
        "    def show(self):\n",
        "        out = f\"\\\\dfrac{{{self.n}}}{{{self.m}}}\"\n",
        "        if self.m == 1:\n",
        "            out = f\"{self.n}\"\n",
        "        display(Math(out))\n",
        "\n",
        "\n",
        "def get_gcd(a, b):\n",
        "    while b:\n",
        "        a, b = b, a%b\n",
        "    return a"
      ],
      "metadata": {
        "id": "r6X28lsvMKgc"
      },
      "execution_count": null,
      "outputs": []
    },
    {
      "cell_type": "code",
      "source": [
        "p = Rational(5,2)\n",
        "q = Rational(1,4)\n",
        "print(p-q)\n",
        "(p-q).show()"
      ],
      "metadata": {
        "colab": {
          "base_uri": "https://localhost:8080/",
          "height": 68
        },
        "id": "Cfnrttr7QE-f",
        "outputId": "6ad4919d-4fd3-483d-97ea-2c5c0d9365fe"
      },
      "execution_count": null,
      "outputs": [
        {
          "output_type": "stream",
          "name": "stdout",
          "text": [
            "9/4\n"
          ]
        },
        {
          "output_type": "display_data",
          "data": {
            "text/plain": [
              "<IPython.core.display.Math object>"
            ],
            "text/latex": "$\\displaystyle \\dfrac{9}{4}$"
          },
          "metadata": {}
        }
      ]
    },
    {
      "cell_type": "code",
      "source": [
        "p>q"
      ],
      "metadata": {
        "colab": {
          "base_uri": "https://localhost:8080/"
        },
        "id": "R4JmZnqpvbEc",
        "outputId": "b75e4c1e-66ac-4e0d-cf27-4660c3f32d0e"
      },
      "execution_count": null,
      "outputs": [
        {
          "output_type": "execute_result",
          "data": {
            "text/plain": [
              "True"
            ]
          },
          "metadata": {},
          "execution_count": 116
        }
      ]
    },
    {
      "cell_type": "code",
      "source": [
        "p==q"
      ],
      "metadata": {
        "colab": {
          "base_uri": "https://localhost:8080/"
        },
        "id": "iSLobc2rvfk0",
        "outputId": "af2f1961-7743-41cd-d07f-4d6722c0f2b8"
      },
      "execution_count": null,
      "outputs": [
        {
          "output_type": "execute_result",
          "data": {
            "text/plain": [
              "False"
            ]
          },
          "metadata": {},
          "execution_count": 117
        }
      ]
    },
    {
      "cell_type": "code",
      "source": [
        "k, tr = p.mixed()\n",
        "k"
      ],
      "metadata": {
        "colab": {
          "base_uri": "https://localhost:8080/"
        },
        "id": "-dpPl4EsxUBz",
        "outputId": "72e00628-83d3-40b8-da45-74b86bde8ee6"
      },
      "execution_count": null,
      "outputs": [
        {
          "output_type": "execute_result",
          "data": {
            "text/plain": [
              "2"
            ]
          },
          "metadata": {},
          "execution_count": 118
        }
      ]
    },
    {
      "cell_type": "code",
      "source": [
        "Math(tr.toLatex())"
      ],
      "metadata": {
        "colab": {
          "base_uri": "https://localhost:8080/",
          "height": 51
        },
        "id": "soEyJixoxizv",
        "outputId": "88428db1-0d13-469a-e30f-3305112272ba"
      },
      "execution_count": null,
      "outputs": [
        {
          "output_type": "execute_result",
          "data": {
            "text/plain": [
              "<IPython.core.display.Math object>"
            ],
            "text/latex": "$\\displaystyle \\dfrac{1}{2}$"
          },
          "metadata": {},
          "execution_count": 119
        }
      ]
    },
    {
      "cell_type": "code",
      "source": [
        "Math(p.toLatex(mixed=True))"
      ],
      "metadata": {
        "colab": {
          "base_uri": "https://localhost:8080/",
          "height": 51
        },
        "id": "t0JjjXrY06Eb",
        "outputId": "a05e58c9-ae44-4d05-87bd-6eb5dccb7530"
      },
      "execution_count": null,
      "outputs": [
        {
          "output_type": "execute_result",
          "data": {
            "text/plain": [
              "<IPython.core.display.Math object>"
            ],
            "text/latex": "$\\displaystyle 2\\dfrac{1}{2}$"
          },
          "metadata": {},
          "execution_count": 120
        }
      ]
    },
    {
      "cell_type": "code",
      "source": [
        "(p ** 2).show()"
      ],
      "metadata": {
        "colab": {
          "base_uri": "https://localhost:8080/",
          "height": 51
        },
        "id": "qkMLC1Zq2OOM",
        "outputId": "f95cc460-95db-43e6-89d4-33a2858ecffd"
      },
      "execution_count": null,
      "outputs": [
        {
          "output_type": "display_data",
          "data": {
            "text/plain": [
              "<IPython.core.display.Math object>"
            ],
            "text/latex": "$\\displaystyle \\dfrac{25}{4}$"
          },
          "metadata": {}
        }
      ]
    }
  ]
}