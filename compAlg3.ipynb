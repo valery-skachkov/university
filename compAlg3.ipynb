{
  "cells": [
    {
      "cell_type": "markdown",
      "metadata": {
        "colab_type": "text",
        "id": "view-in-github"
      },
      "source": [
        "<a href=\"https://colab.research.google.com/github/SausageSamurai/CompAlg/blob/main/compAlg3.ipynb\" target=\"_parent\"><img src=\"https://colab.research.google.com/assets/colab-badge.svg\" alt=\"Open In Colab\"/></a>"
      ]
    },
    {
      "cell_type": "code",
      "execution_count": null,
      "metadata": {
        "id": "PYbl0cJlG96S"
      },
      "outputs": [],
      "source": [
        "from IPython.display import display, Math\n",
        "import numpy as np\n",
        "import matplotlib\n",
        "import matplotlib.pyplot as plt\n",
        "\n",
        "\n",
        "def add(x, y): return ['+', x, y]\n",
        "def sub(x, y): return ['-', x, y]\n",
        "def mul(x, y): return ['*', x, y]\n",
        "def div(x, y): return ['/', x, y]\n",
        "def power(x, y): return ['^', x, y]\n",
        "def negative(x): return ['~', x]\n",
        "def sin_(x): return ['sin', x]\n",
        "def cos_(x): return ['cos', x]\n",
        "def sqrt_(x): return ['sqrt', x]\n",
        "\n",
        "\n",
        "\n",
        "\n",
        "def tan_(x): return ['tan', x]\n",
        "def arcsin_(x): return ['arcsin', x]\n",
        "def arccos_(x): return ['arccos', x]\n",
        "def arctan_(x): return ['arctan', x]\n",
        "def sh_(x): return ['sh', x]\n",
        "def ch_(x): return ['ch', x]\n",
        "def th_(x): return ['th', x]\n",
        "def ash_(x): return ['ash', x]\n",
        "def ach_(x): return ['ach', x]\n",
        "def ath_(x): return ['ath', x]\n",
        "\n",
        "\n",
        "def fix(x):\n",
        "    if isinstance(x, Expression):\n",
        "        return x\n",
        "    return Expression(x)\n",
        "\n",
        "\n",
        "class Expression:\n",
        "    def __init__(self, x):\n",
        "        self.T = x\n",
        "\n",
        "    def __add__(self, x):\n",
        "        return Expression(add(self.T, fix(x).T))\n",
        "\n",
        "    def __radd__(self, x):\n",
        "        return Expression(add(fix(x).T, self.T))\n",
        "\n",
        "    def __sub__(self, x):\n",
        "        return Expression(sub(self.T, fix(x).T))\n",
        "\n",
        "    def __rsub__(self, x):\n",
        "        return Expression(sub(fix(x).T, self.T))\n",
        "\n",
        "    def __mul__(self, x):\n",
        "        return Expression(mul(self.T, fix(x).T))\n",
        "\n",
        "    def __rmul__(self, x):\n",
        "        return Expression(mul(fix(x).T, self.T))\n",
        "\n",
        "    def __truediv__(self, x):\n",
        "        return Expression(div(self.T, fix(x).T))\n",
        "\n",
        "    def __rtruediv__(self, x):\n",
        "        return Expression(div(fix(x).T, self.T))\n",
        "\n",
        "    def __pow__(self, x):\n",
        "        return Expression(power(self.T, fix(x).T))\n",
        "\n",
        "    def __rpow__(self, x):\n",
        "        return Expression(power(fix(x).T, self.T))\n",
        "\n",
        "    def __neg__(self):\n",
        "        return Expression(negative(self.T))\n",
        "\n",
        "\n",
        "\n",
        "    def arccos(self):\n",
        "        return Expression(np.arccos(self.T))\n",
        "\n",
        "    def tan(self):\n",
        "        return Expression(np.tan(self.T))\n",
        "\n",
        "    def arcsin(self):\n",
        "        return Expression(np.arcsin(self.T))\n",
        "\n",
        "    def arctan(self):\n",
        "        return Expression(np.arctan(self.T))\n",
        "\n",
        "    def sh(self):\n",
        "        return Expression(np.sinh(self.T))\n",
        "\n",
        "    def ch(self):\n",
        "        return Expression(np.cosh(self.T))\n",
        "\n",
        "    def th(self):\n",
        "        return Expression(np.tanh(self.T))\n",
        "\n",
        "    def ash(self):\n",
        "        return Expression(np.arcsinh(self.T))\n",
        "\n",
        "    def ach(self):\n",
        "        return Expression(np.arccosh(self.T))\n",
        "\n",
        "    def ath(self):\n",
        "        return Expression(np.arctanh(self.T))\n",
        "\n",
        "\n",
        "\n",
        "\n",
        "def latex(x):\n",
        "    if isinstance(x, Expression):\n",
        "        return latex(x.T)\n",
        "\n",
        "    if isinstance(x, (int, str)):\n",
        "        return str(x)\n",
        "\n",
        "    op = x[0]\n",
        "    if op in '+-*/^':\n",
        "        l, r = latex(x[1]), latex(x[2])\n",
        "        if op == '+':\n",
        "            return f'{l} + {r}'\n",
        "        if op == '-':\n",
        "            return f'{l} - {r}'\n",
        "        if op == '*':\n",
        "            return f'{l} \\\\cdot {r}'\n",
        "        if op == '/':\n",
        "            return f'\\\\dfrac{{{l}}}{{{r}}}'\n",
        "        if op == '^':\n",
        "            if isinstance(x[1], list):\n",
        "                l = enclose(l)\n",
        "            return f'{{{l}}}^{{{r}}}'\n",
        "    else:\n",
        "        a = latex(x[1])\n",
        "        if op == '~':\n",
        "            return f'- {a}'\n",
        "        if op == 'sin':\n",
        "            return f'\\\\sin {a}'\n",
        "        if op == 'cos':\n",
        "            return f'\\\\cos {a}'\n",
        "        if op == 'sqrt':\n",
        "            return f'\\\\sqrt{{{a}}}'\n",
        "        if op == 'arcsin':\n",
        "            return f'\\\\arcsin{{{a}}}'\n",
        "        if op == 'arccos':\n",
        "            return f'\\\\arccos{{{a}}}'\n",
        "        if op == 'arctan':\n",
        "            return f'\\\\arctan{{{a}}}'\n",
        "        if op == 'tan':\n",
        "            return f'\\\\tan{{{a}}}'\n",
        "\n",
        "        if op == 'sh':\n",
        "            return f'\\\\sinh{{{a}}}'\n",
        "        if op == 'ch':\n",
        "            return f'\\\\cosh{{{a}}}'\n",
        "        if op == 'th':\n",
        "            return f'\\\\tanh{{{a}}}'\n",
        "        if op == 'ash':\n",
        "            return f'arsinh {{{a}}}'\n",
        "        if op == 'ach':\n",
        "            return f'arcosh {{{a}}}'\n",
        "        if op == 'ath':\n",
        "            return f'artanh {{{a}}}'\n",
        "\n",
        "\n",
        "\n",
        "def show(x):\n",
        "    display(Math(latex(x)))\n",
        "\n",
        "\n",
        "def enclose(x):\n",
        "    return f'\\\\left( {x} \\\\right)'\n",
        "\n",
        "\n",
        "def symbols(s):\n",
        "    S = s.split()\n",
        "    if len(S) == 1:\n",
        "        return Expression(s)\n",
        "    return (Expression(i) for i in S)\n",
        "\n",
        "\n",
        "def sin(x):\n",
        "    return Expression(sin_(fix(x).T))\n",
        "\n",
        "\n",
        "def cos(x):\n",
        "    return Expression(cos_(fix(x).T))\n",
        "\n",
        "\n",
        "def sqrt(x):\n",
        "    return Expression(sqrt_(fix(x).T))\n",
        "\n",
        "\n",
        "def arcsin(x):\n",
        "    return Expression(arcsin_(fix(x).T))\n",
        "\n",
        "\n",
        "def arccos(x):\n",
        "    return Expression(arccos_(fix(x).T))\n",
        "\n",
        "\n",
        "def arctan(x):\n",
        "    return Expression(arctan_(fix(x).T))\n",
        "\n",
        "\n",
        "def tan(x):\n",
        "    return Expression(tan_(fix(x).T))\n",
        "\n",
        "\n",
        "def sh(x):\n",
        "    return Expression(sh_(fix(x).T))\n",
        "\n",
        "\n",
        "def ch(x):\n",
        "    return Expression(ch_(fix(x).T))\n",
        "\n",
        "\n",
        "def th(x):\n",
        "    return Expression(th_(fix(x).T))\n",
        "\n",
        "\n",
        "def ash(x):\n",
        "    return Expression(ash_(fix(x).T))\n",
        "\n",
        "\n",
        "def ach(x):\n",
        "    return Expression(ach_(fix(x).T))\n",
        "\n",
        "\n",
        "def ath(x):\n",
        "    return Expression(ath_(fix(x).T))\n",
        "\n",
        "\n",
        "\n",
        "\n",
        "def evalf(x, arg={}):\n",
        "    if isinstance(x, Expression):\n",
        "        if isinstance(arg, dict):\n",
        "            arg = {i.T: arg[i] for i in arg}\n",
        "        else:\n",
        "            arg = {'$': arg}\n",
        "        return evalf(x.T, arg)\n",
        "\n",
        "    if isinstance(x, int):\n",
        "        return x\n",
        "\n",
        "    if isinstance(x, str):\n",
        "        if x in arg:\n",
        "            return arg[x]\n",
        "        return arg['$']\n",
        "\n",
        "    op = x[0]\n",
        "    if op in '+-*/^':\n",
        "        l, r = evalf(x[1], arg), evalf(x[2], arg)\n",
        "        if op == '+':\n",
        "            return l + r\n",
        "        if op == '-':\n",
        "            return l - r\n",
        "        if op == '*':\n",
        "            return l * r\n",
        "        if op == '/':\n",
        "            return l / r\n",
        "        if op == '^':\n",
        "            return l ** r\n",
        "    else:\n",
        "        a = evalf(x[1], arg)\n",
        "        if op == '~':\n",
        "            return - a\n",
        "        if op == 'sin':\n",
        "            return np.sin(a)\n",
        "        if op == 'cos':\n",
        "            return np.cos(a)\n",
        "        if op == 'sqrt':\n",
        "            return np.sqrt(a)\n",
        "        if op == 'arcsin':\n",
        "            return np.arcsin(a)\n",
        "        if op == 'arccos':\n",
        "            return np.arccos(a)\n",
        "        if op == 'arctan':\n",
        "            return np.arctan(a)\n",
        "        if op == 'tan':\n",
        "            return np.tan(a)\n",
        "        if op == 'sh':\n",
        "            return np.sinh(a)\n",
        "        if op == 'ch':\n",
        "            return np.cosh(a)\n",
        "        if op == 'th':\n",
        "            return np.tanh(a)\n",
        "        if op == 'ash':\n",
        "            return np.arcsinh(a)\n",
        "        if op == 'ach':\n",
        "            return np.arccosh(a)\n",
        "        if op == 'ath':\n",
        "            return np.arctanh(a)\n",
        "    return None\n",
        "\n",
        "\n",
        "def plotParametric(F, G, t, t1, t2):\n",
        "    T = np.linspace(t1, t2, 1000)\n",
        "    X = evalf(F, {t: T})\n",
        "    Y = evalf(G, {t: T})\n",
        "    plt.plot(X, Y)\n"
      ]
    },
    {
      "cell_type": "code",
      "execution_count": 3,
      "metadata": {
        "colab": {
          "base_uri": "https://localhost:8080/"
        },
        "id": "-CAE-1ZrLnXS",
        "outputId": "76c0821a-02ef-4297-e03c-7aad3538601c"
      },
      "outputs": [
        {
          "data": {
            "text/plain": [
              "['*', 2, ['+', ['^', 'x', 2], ['cos', 'x']]]"
            ]
          },
          "execution_count": 3,
          "metadata": {},
          "output_type": "execute_result"
        }
      ],
      "source": [
        "x = Expression('x')\n",
        "f = 2 * (x**2 + cos(x))\n",
        "f.T"
      ]
    },
    {
      "cell_type": "code",
      "execution_count": 4,
      "metadata": {
        "colab": {
          "base_uri": "https://localhost:8080/",
          "height": 38
        },
        "id": "lSqmHUMYzVxP",
        "outputId": "f6f5b1de-b406-482a-e48e-7dca83a1150f"
      },
      "outputs": [
        {
          "data": {
            "text/latex": [
              "$\\displaystyle 2 \\cdot {x}^{2} + \\cos x$"
            ],
            "text/plain": [
              "<IPython.core.display.Math object>"
            ]
          },
          "metadata": {},
          "output_type": "display_data"
        }
      ],
      "source": [
        "show(f)"
      ]
    },
    {
      "cell_type": "code",
      "execution_count": 5,
      "metadata": {
        "colab": {
          "base_uri": "https://localhost:8080/"
        },
        "id": "GKOxLjyJzVxQ",
        "outputId": "7767d639-bbe4-46fe-bcd3-fb8f51e28601"
      },
      "outputs": [
        {
          "data": {
            "text/plain": [
              "2.0"
            ]
          },
          "execution_count": 5,
          "metadata": {},
          "output_type": "execute_result"
        }
      ],
      "source": [
        "evalf(f, 0)"
      ]
    },
    {
      "cell_type": "code",
      "execution_count": 6,
      "metadata": {
        "colab": {
          "base_uri": "https://localhost:8080/"
        },
        "id": "irHlX29_zZ88",
        "outputId": "146bf3c1-7570-4a61-f822-ddd87cfe65c9"
      },
      "outputs": [
        {
          "data": {
            "text/plain": [
              "9"
            ]
          },
          "execution_count": 6,
          "metadata": {},
          "output_type": "execute_result"
        }
      ],
      "source": [
        "y = Expression('y')\n",
        "g = x-y\n",
        "evalf(g, {y: 1, x: 10})"
      ]
    },
    {
      "cell_type": "code",
      "execution_count": 7,
      "metadata": {
        "colab": {
          "base_uri": "https://localhost:8080/",
          "height": 265
        },
        "id": "XlibSIg4zVxR",
        "outputId": "0ca194e5-3a00-4356-ddaf-f133eb7cde4c"
      },
      "outputs": [
        {
          "data": {
            "image/png": "[encoded data removed]",
            "text/plain": [
              "<Figure size 432x288 with 1 Axes>"
            ]
          },
          "metadata": {
            "needs_background": "light"
          },
          "output_type": "display_data"
        }
      ],
      "source": [
        "t = Expression('t')\n",
        "F = sin(t) * ( - 2*cos(4*t) - sin(t/12)**5)\n",
        "G = cos(t) * ( - 2*cos(4*t) - sin(t/12)**5)\n",
        "plotParametric(F, G, t, 0, 40)"
      ]
    },
    {
      "cell_type": "code",
      "execution_count": null,
      "metadata": {},
      "outputs": [],
      "source": [
        "print(\"Hello\")"
      ]
    }
  ],
  "metadata": {
    "colab": {
      "include_colab_link": true,
      "provenance": []
    },
    "interpreter": {
      "hash": "51bdbcf85504914e6a59f9bfb6917a57d8b0f1eb29123c0cc139fe2aa351ad45"
    },
    "kernelspec": {
      "display_name": "Python 3.9.12 ('base')",
      "language": "python",
      "name": "python3"
    },
    "language_info": {
      "codemirror_mode": {
        "name": "ipython",
        "version": 3
      },
      "file_extension": ".py",
      "mimetype": "text/x-python",
      "name": "python",
      "nbconvert_exporter": "python",
      "pygments_lexer": "ipython3",
      "version": "3.9.12"
    }
  },
  "nbformat": 4,
  "nbformat_minor": 0
}
